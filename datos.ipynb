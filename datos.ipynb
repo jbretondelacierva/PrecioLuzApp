{
 "cells": [
  {
   "cell_type": "code",
   "execution_count": 16,
   "metadata": {},
   "outputs": [],
   "source": [
    "import pandas as pd\n",
    "import numpy as np\n",
    "import requests\n",
    "import json\n",
    "from datetime import datetime,timedelta,date\n",
    "import sys\n",
    "\n",
    "\n",
    "\n",
    "import matplotlib.pyplot as plt\n",
    "from matplotlib.ticker import FuncFormatter\n",
    "from matplotlib import cm\n",
    "import matplotlib.dates as mdates\n",
    "import matplotlib.ticker as ticker\n",
    "from matplotlib.dates import (YEARLY, MONTHLY, DateFormatter, WeekdayLocator, MonthLocator,DayLocator,\n",
    "                              rrulewrapper, RRuleLocator, drange, num2date, date2num)\n",
    "import matplotlib.patches as mpatches\n",
    "import matplotlib.units as munits\n",
    "from matplotlib.dates import num2date, date2num\n",
    "\n",
    "import seaborn as sns\n",
    "\n",
    "\n",
    "import html\n",
    "\n",
    "\n",
    "from api_keys import token_esios #importo mi token de esios, añadan su propia clave en su versión"
   ]
  },
  {
   "cell_type": "code",
   "execution_count": 17,
   "metadata": {},
   "outputs": [
    {
     "data": {
      "text/plain": [
       "'tu_token_de_api_aqui'"
      ]
     },
     "execution_count": 17,
     "metadata": {},
     "output_type": "execute_result"
    }
   ],
   "source": [
    "token_esios"
   ]
  },
  {
   "cell_type": "markdown",
   "metadata": {},
   "source": [
    "# Funciones para bajar los datos"
   ]
  },
  {
   "cell_type": "code",
   "execution_count": 18,
   "metadata": {},
   "outputs": [],
   "source": [
    "def catalogo_esios(token):\n",
    "    \"\"\"\n",
    "    Descarga todos los identificadores y su descripcion de esios\n",
    "    \n",
    "    Parameters\n",
    "    ----------\n",
    "    token : str\n",
    "        El token de esios necesario para realizar las llamadas al API\n",
    "        \n",
    "    Returns\n",
    "    -------\n",
    "    DataFrame\n",
    "        Dataframe de pandas con el catalogo de los id de la API\n",
    "    \n",
    "    \"\"\"\n",
    "    \n",
    "    \n",
    "    headers = {'Accept':'application/json; application/vnd.esios-api-v2+json',\n",
    "           'Content-Type':'application/json',\n",
    "           'Host':'api.esios.ree.es',\n",
    "           'Cookie' : '',\n",
    "           'Authorization':'Token token={}'.format(token),\n",
    "           'Cache-Control': 'no-cache',\n",
    "           'Pragma': 'no-cache'\n",
    "          }\n",
    "    end_point = 'https://api.esios.ree.es/indicators'\n",
    "    response = requests.get(end_point, headers=headers).json()\n",
    "    \n",
    "    #del resultado en json bruto se convierte en pandas, y se eliminan los tags del campo description\n",
    "\n",
    "    return (pd\n",
    "            .json_normalize(data=response['indicators'], errors='ignore')\n",
    "            .assign(description = lambda df_: df_.apply(lambda df__: html.unescape(df__['description']\n",
    "                                                            .replace('<p>','')\n",
    "                                                            .replace('</p>','')\n",
    "                                                            .replace('<b>','')\n",
    "                                                            .replace('</b>','')), \n",
    "                                                  axis=1)\n",
    "                   )\n",
    "           )"
   ]
  },
  {
   "cell_type": "code",
   "execution_count": 19,
   "metadata": {},
   "outputs": [],
   "source": [
    "def download_esios(token,indicadores,fecha_inicio,fecha_fin,time_trunc='day'):\n",
    "    \"\"\"\n",
    "    Descarga datos esios desde un determinado identidficador y entre dos fechas\n",
    "    \n",
    "    Parameters\n",
    "    ----------\n",
    "    token : str\n",
    "        El token de esios necesario para realizar las llamadas al API\n",
    "    \n",
    "    indicadores : list\n",
    "        Lista con los strings de los indicadores de los que queremos bajar datos\n",
    "        \n",
    "    fecha_inicio : str\n",
    "        Fecha con formato %Y-%M-%d, que indica la fecha desde la que se quiere bajar los datos.\n",
    "        Ejemplo 2022-10-30, 30 Octubre de 2022.\n",
    "    \n",
    "    fecha_fin : str\n",
    "        Fecha con formato %Y-%M-%d, que indica la fecha hasta la que se quiere bajar los datos.\n",
    "        Ejemplo 2022-10-30, 30 Octubre de 2022.\n",
    "        \n",
    "    time_trunc : str, optional\n",
    "        Campo adicional que nos permite elegir la granularidad de los datos que queremos bajar.\n",
    "        \n",
    "    Returns\n",
    "    -------\n",
    "    DataFrame\n",
    "        Dataframe de pandas con los datos solicitados\n",
    "    \n",
    "    \"\"\"\n",
    "    \n",
    "    # preparamos la cabecera a insertar en la llamada. Vease la necesidad de disponer el token de esios\n",
    "    \n",
    "    headers = {'Accept':'application/json; application/vnd.esios-api-v2+json',\n",
    "           'Content-Type':'application/json',\n",
    "           'Host':'api.esios.ree.es',\n",
    "           'Cookie' : '',\n",
    "           'Authorization':'Token token={}'.format(token),\n",
    "           'Cache-Control': 'no-cache',\n",
    "           'Pragma': 'no-cache'\n",
    "          }\n",
    "    \n",
    "    # preparamos la url básica a la que se le añadiran los campos necesarios \n",
    "    \n",
    "    end_point = 'https://api.esios.ree.es/indicators'\n",
    "    \n",
    "    # El procedimiento es sencillo: \n",
    "    # a) por cada uno de los indicadores configuraremos la url, según las indicaciones de la documentación.\n",
    "    # b) Hacemos la llamada y recogemos los datos en formato json.\n",
    "    # c) Añadimos la información a una lista\n",
    "    \n",
    "    lista=[]\n",
    "\n",
    "    for indicador in indicadores:\n",
    "        url = f'{end_point}/{indicador}?start_date={fecha_inicio}T00:00&\\\n",
    "        end_date={fecha_fin}T23:59&time_trunc={time_trunc}'\n",
    "        print (url)\n",
    "        response = requests.get(url, headers=headers).json()\n",
    "        lista.append(pd.json_normalize(data=response['indicator'], record_path=['values'], meta=['name','short_name'], errors='ignore'))\n",
    "\n",
    "    # Devolvemos como salida de la función un df fruto de la concatenación de los elemenos de la lista\n",
    "    # Este procedimiento, con una sola concatenación al final, es mucho más eficiente que hacer múltiples \n",
    "    # concatenaciones.\n",
    "    \n",
    "    return pd.concat(lista, ignore_index=True )"
   ]
  },
  {
   "cell_type": "code",
   "execution_count": 20,
   "metadata": {},
   "outputs": [],
   "source": [
    "def download_ree(indicador,fecha_inicio,fecha_fin,time_trunc='day'):\n",
    "    \"\"\"\n",
    "    Descarga datos desde apidatos.ree.es entre dos fechas determinadas \n",
    "    \n",
    "    Parameters\n",
    "    ----------\n",
    "    \n",
    "    indicador : str\n",
    "        Texto con el indicador del end point del que queremo bajar la información\n",
    "        \n",
    "    fecha_inicio : str\n",
    "        Fecha con formato %Y-%M-%d, que indica la fecha desde la que se quiere bajar los datos.\n",
    "        Ejemplo 2022-10-30, 30 Octubre de 2022.\n",
    "    \n",
    "    fecha_fin : str\n",
    "        Fecha con formato %Y-%M-%d, que indica la fecha hasta la que se quiere bajar los datos.\n",
    "        Ejemplo 2022-10-30, 30 Octubre de 2022.\n",
    "        \n",
    "    time_trunc : str, optional\n",
    "        Campo adicional que nos permite elegir la granularidad de los datos que queremos bajar.\n",
    "        Hour, Day, Month...dependiendo del end point se aplicará o no esta orden\n",
    "        \n",
    "    Returns\n",
    "    -------\n",
    "    DataFrame\n",
    "        Dataframe de pandas con los datos solicitados\n",
    "    \n",
    "    \"\"\"\n",
    "    \n",
    "    \n",
    "    headers = {'Accept': 'application/json',\n",
    "               'Content-Type': 'applic<ation/json',\n",
    "               'Host': 'apidatos.ree.es'}\n",
    "    \n",
    "    end_point = 'https://apidatos.ree.es/es/datos/'\n",
    "    \n",
    "    lista=[]\n",
    "    url = f'{end_point}{indicador}?start_date={fecha_inicio}T00:00&end_date={fecha_fin}T23:59&\\\n",
    "    time_trunc={time_trunc}'\n",
    "    print (url)\n",
    "    \n",
    "    response = requests.get(url, headers=headers).json()\n",
    "    \n",
    "    return pd.json_normalize(data=response['included'], \n",
    "                                   record_path=['attributes','values'], \n",
    "                                   meta=['type',['attributes','type' ]], \n",
    "                                   errors='ignore')"
   ]
  },
  {
   "cell_type": "code",
   "execution_count": 21,
   "metadata": {},
   "outputs": [],
   "source": [
    "def download_gas(year):\n",
    "    \"\"\"\n",
    "    Descarga datos de precio de gas desde MIBGAS para GDAES\n",
    "    \n",
    "    Parameters\n",
    "    ----------\n",
    "    year : str\n",
    "        Indicamos el año del que nos queremos bajar los datos de precio de gas PVB\n",
    "        \n",
    "    Returns\n",
    "    -------\n",
    "    DataFrame\n",
    "        Dataframe de pandas con los datos solicitados, columnas Fecha , Producto y Precio\n",
    "    \n",
    "    \"\"\"\n",
    "    \n",
    "    path = f'https://www.mibgas.es/en/file-access/MIBGAS_Data_{year}.xlsx?path=AGNO_{year}/XLS'\n",
    "    return (pd.read_excel(path,sheet_name='Trading Data PVB&VTP',usecols=['Trading day','Product','Daily Reference Price\\n[EUR/MWh]']).\n",
    "       query(\"Product=='GDAES_D+1'\").\n",
    "       rename(columns={'Trading day':'fecha','Product':'Producto','Daily Reference Price\\n[EUR/MWh]':'precio'}).\n",
    "       sort_values('fecha',ascending=True).\n",
    "       reset_index(drop=True)\n",
    "      )"
   ]
  },
  {
   "cell_type": "code",
   "execution_count": 22,
   "metadata": {},
   "outputs": [],
   "source": [
    "def download_gas_rd(year):\n",
    "    \"\"\"\n",
    "    Descarga datos de precio de gas desde MIBGAS para compensación segñun RD10/2022\n",
    "    \n",
    "    Parameters\n",
    "    ----------\n",
    "    YEAR : str\n",
    "        Indicamos el año del que nos queremos bajar los datos de precio de gas de RD10/22\n",
    "        \n",
    "    Returns\n",
    "    -------\n",
    "    DataFrame\n",
    "        Dataframe de pandas con los datos solicitados, columnas Fecha , Producto y Precio\n",
    "    \n",
    "    \"\"\"\n",
    "    \n",
    "    path = f'https://www.mibgas.es/en/file-access/MIBGAS_Data_{year}.xlsx?path=AGNO_{year}/XLS'\n",
    "    return (pd.read_excel(path,sheet_name='PGN_RD_10_2022',\n",
    "                          usecols=['Date','PGN Price\\n[EUR/MWh]']).\n",
    "       rename(columns={'Date':'fecha','PGN Price\\n[EUR/MWh]':'precio'}).\n",
    "       sort_values('fecha',ascending=True).\n",
    "       reset_index(drop=True)\n",
    "      )\n",
    "\n",
    "      "
   ]
  },
  {
   "cell_type": "markdown",
   "metadata": {},
   "source": [
    "# Datos desde https://www.ree.es/es/apidatos"
   ]
  },
  {
   "cell_type": "markdown",
   "metadata": {},
   "source": [
    "En el link del título tenemos la descripción del servicio `REST` para acceder a la API. Siguiendo esas instrucciones montamos la funcion `download_ree` para que de manera fácil podamos bajar la información que disponemos.\n",
    "\n",
    "Veamos un ejemplo práctico bajando la generación, con sus diferentes tipos:"
   ]
  },
  {
   "cell_type": "code",
   "execution_count": 23,
   "metadata": {},
   "outputs": [],
   "source": [
    "fin = datetime.today().strftime('%Y-%m-%d')  # string con la fecha de hoy en el formato requerido por funcion\n",
    "inicio = (datetime.today()-timedelta(days=7)).strftime('%Y-%m-%d')\n",
    "identificador = 'generacion/estructura-generacion'"
   ]
  },
  {
   "cell_type": "code",
   "execution_count": 30,
   "metadata": {},
   "outputs": [
    {
     "name": "stdout",
     "output_type": "stream",
     "text": [
      "https://apidatos.ree.es/es/datos/generacion/estructura-generacion?start_date=2023-11-05T00:00&end_date=2023-11-12T23:59&    time_trunc=day\n"
     ]
    },
    {
     "data": {
      "text/html": [
       "<div>\n",
       "<style scoped>\n",
       "    .dataframe tbody tr th:only-of-type {\n",
       "        vertical-align: middle;\n",
       "    }\n",
       "\n",
       "    .dataframe tbody tr th {\n",
       "        vertical-align: top;\n",
       "    }\n",
       "\n",
       "    .dataframe thead th {\n",
       "        text-align: right;\n",
       "    }\n",
       "</style>\n",
       "<table border=\"1\" class=\"dataframe\">\n",
       "  <thead>\n",
       "    <tr style=\"text-align: right;\">\n",
       "      <th></th>\n",
       "      <th>value</th>\n",
       "      <th>percentage</th>\n",
       "      <th>datetime</th>\n",
       "      <th>type</th>\n",
       "      <th>attributes.type</th>\n",
       "    </tr>\n",
       "  </thead>\n",
       "  <tbody>\n",
       "    <tr>\n",
       "      <th>0</th>\n",
       "      <td>88871.500</td>\n",
       "      <td>0.139916</td>\n",
       "      <td>2023-11-05T00:00:00.000+01:00</td>\n",
       "      <td>Hidráulica</td>\n",
       "      <td>Renovable</td>\n",
       "    </tr>\n",
       "    <tr>\n",
       "      <th>1</th>\n",
       "      <td>111999.100</td>\n",
       "      <td>0.157790</td>\n",
       "      <td>2023-11-06T00:00:00.000+01:00</td>\n",
       "      <td>Hidráulica</td>\n",
       "      <td>Renovable</td>\n",
       "    </tr>\n",
       "    <tr>\n",
       "      <th>2</th>\n",
       "      <td>125630.800</td>\n",
       "      <td>0.178193</td>\n",
       "      <td>2023-11-07T00:00:00.000+01:00</td>\n",
       "      <td>Hidráulica</td>\n",
       "      <td>Renovable</td>\n",
       "    </tr>\n",
       "    <tr>\n",
       "      <th>3</th>\n",
       "      <td>125013.900</td>\n",
       "      <td>0.180512</td>\n",
       "      <td>2023-11-08T00:00:00.000+01:00</td>\n",
       "      <td>Hidráulica</td>\n",
       "      <td>Renovable</td>\n",
       "    </tr>\n",
       "    <tr>\n",
       "      <th>4</th>\n",
       "      <td>129460.800</td>\n",
       "      <td>0.171445</td>\n",
       "      <td>2023-11-09T00:00:00.000+01:00</td>\n",
       "      <td>Hidráulica</td>\n",
       "      <td>Renovable</td>\n",
       "    </tr>\n",
       "    <tr>\n",
       "      <th>...</th>\n",
       "      <td>...</td>\n",
       "      <td>...</td>\n",
       "      <td>...</td>\n",
       "      <td>...</td>\n",
       "      <td>...</td>\n",
       "    </tr>\n",
       "    <tr>\n",
       "      <th>97</th>\n",
       "      <td>709797.602</td>\n",
       "      <td>1.000000</td>\n",
       "      <td>2023-11-06T00:00:00.000+01:00</td>\n",
       "      <td>Generación total</td>\n",
       "      <td>Generación total</td>\n",
       "    </tr>\n",
       "    <tr>\n",
       "      <th>98</th>\n",
       "      <td>705027.478</td>\n",
       "      <td>1.000000</td>\n",
       "      <td>2023-11-07T00:00:00.000+01:00</td>\n",
       "      <td>Generación total</td>\n",
       "      <td>Generación total</td>\n",
       "    </tr>\n",
       "    <tr>\n",
       "      <th>99</th>\n",
       "      <td>692552.066</td>\n",
       "      <td>1.000000</td>\n",
       "      <td>2023-11-08T00:00:00.000+01:00</td>\n",
       "      <td>Generación total</td>\n",
       "      <td>Generación total</td>\n",
       "    </tr>\n",
       "    <tr>\n",
       "      <th>100</th>\n",
       "      <td>755114.387</td>\n",
       "      <td>1.000000</td>\n",
       "      <td>2023-11-09T00:00:00.000+01:00</td>\n",
       "      <td>Generación total</td>\n",
       "      <td>Generación total</td>\n",
       "    </tr>\n",
       "    <tr>\n",
       "      <th>101</th>\n",
       "      <td>783939.353</td>\n",
       "      <td>1.000000</td>\n",
       "      <td>2023-11-10T00:00:00.000+01:00</td>\n",
       "      <td>Generación total</td>\n",
       "      <td>Generación total</td>\n",
       "    </tr>\n",
       "  </tbody>\n",
       "</table>\n",
       "<p>102 rows × 5 columns</p>\n",
       "</div>"
      ],
      "text/plain": [
       "          value  percentage                       datetime              type  \\\n",
       "0     88871.500    0.139916  2023-11-05T00:00:00.000+01:00        Hidráulica   \n",
       "1    111999.100    0.157790  2023-11-06T00:00:00.000+01:00        Hidráulica   \n",
       "2    125630.800    0.178193  2023-11-07T00:00:00.000+01:00        Hidráulica   \n",
       "3    125013.900    0.180512  2023-11-08T00:00:00.000+01:00        Hidráulica   \n",
       "4    129460.800    0.171445  2023-11-09T00:00:00.000+01:00        Hidráulica   \n",
       "..          ...         ...                            ...               ...   \n",
       "97   709797.602    1.000000  2023-11-06T00:00:00.000+01:00  Generación total   \n",
       "98   705027.478    1.000000  2023-11-07T00:00:00.000+01:00  Generación total   \n",
       "99   692552.066    1.000000  2023-11-08T00:00:00.000+01:00  Generación total   \n",
       "100  755114.387    1.000000  2023-11-09T00:00:00.000+01:00  Generación total   \n",
       "101  783939.353    1.000000  2023-11-10T00:00:00.000+01:00  Generación total   \n",
       "\n",
       "      attributes.type  \n",
       "0           Renovable  \n",
       "1           Renovable  \n",
       "2           Renovable  \n",
       "3           Renovable  \n",
       "4           Renovable  \n",
       "..                ...  \n",
       "97   Generación total  \n",
       "98   Generación total  \n",
       "99   Generación total  \n",
       "100  Generación total  \n",
       "101  Generación total  \n",
       "\n",
       "[102 rows x 5 columns]"
      ]
     },
     "execution_count": 30,
     "metadata": {},
     "output_type": "execute_result"
    }
   ],
   "source": [
    "raw = download_ree(identificador,inicio,fin)\n",
    "raw"
   ]
  },
  {
   "cell_type": "markdown",
   "metadata": {},
   "source": [
    "Veamos un ejemplo de los datos descargados:"
   ]
  },
  {
   "cell_type": "markdown",
   "metadata": {},
   "source": [
    "Tal como hicimos en el caso anterior vamos a formatear los datos en bruto para sacar la tabla que queremos:"
   ]
  },
  {
   "cell_type": "code",
   "execution_count": 25,
   "metadata": {},
   "outputs": [
    {
     "data": {
      "text/plain": [
       "value              float64\n",
       "percentage         float64\n",
       "datetime            object\n",
       "type                object\n",
       "attributes.type     object\n",
       "dtype: object"
      ]
     },
     "execution_count": 25,
     "metadata": {},
     "output_type": "execute_result"
    }
   ],
   "source": [
    "raw.dtypes"
   ]
  },
  {
   "cell_type": "code",
   "execution_count": 33,
   "metadata": {},
   "outputs": [],
   "source": [
    "generacion = (raw\n",
    "              .assign(fecha=lambda df_: pd\n",
    "                      .to_datetime(df_['datetime'],utc=True)\n",
    "                      .dt\n",
    "                      .tz_convert('Europe/Madrid')\n",
    "                      .dt\n",
    "                      .tz_localize(None)\n",
    "                      )\n",
    "              .drop(['attributes.type','datetime'],axis=1)\n",
    "              .rename(columns={'value':'valor','type':'tipo','value':'generacion'})[['fecha','tipo','generacion','percentage']]\n",
    "            )"
   ]
  },
  {
   "cell_type": "markdown",
   "metadata": {},
   "source": [
    "y nos queda tal que así"
   ]
  },
  {
   "cell_type": "code",
   "execution_count": 34,
   "metadata": {},
   "outputs": [
    {
     "data": {
      "text/html": [
       "<div>\n",
       "<style scoped>\n",
       "    .dataframe tbody tr th:only-of-type {\n",
       "        vertical-align: middle;\n",
       "    }\n",
       "\n",
       "    .dataframe tbody tr th {\n",
       "        vertical-align: top;\n",
       "    }\n",
       "\n",
       "    .dataframe thead th {\n",
       "        text-align: right;\n",
       "    }\n",
       "</style>\n",
       "<table border=\"1\" class=\"dataframe\">\n",
       "  <thead>\n",
       "    <tr style=\"text-align: right;\">\n",
       "      <th></th>\n",
       "      <th>fecha</th>\n",
       "      <th>tipo</th>\n",
       "      <th>generacion</th>\n",
       "      <th>percentage</th>\n",
       "    </tr>\n",
       "  </thead>\n",
       "  <tbody>\n",
       "    <tr>\n",
       "      <th>0</th>\n",
       "      <td>2023-11-05</td>\n",
       "      <td>Hidráulica</td>\n",
       "      <td>88871.500</td>\n",
       "      <td>0.139916</td>\n",
       "    </tr>\n",
       "    <tr>\n",
       "      <th>1</th>\n",
       "      <td>2023-11-06</td>\n",
       "      <td>Hidráulica</td>\n",
       "      <td>111999.100</td>\n",
       "      <td>0.157790</td>\n",
       "    </tr>\n",
       "    <tr>\n",
       "      <th>2</th>\n",
       "      <td>2023-11-07</td>\n",
       "      <td>Hidráulica</td>\n",
       "      <td>125630.800</td>\n",
       "      <td>0.178193</td>\n",
       "    </tr>\n",
       "    <tr>\n",
       "      <th>3</th>\n",
       "      <td>2023-11-08</td>\n",
       "      <td>Hidráulica</td>\n",
       "      <td>125013.900</td>\n",
       "      <td>0.180512</td>\n",
       "    </tr>\n",
       "    <tr>\n",
       "      <th>4</th>\n",
       "      <td>2023-11-09</td>\n",
       "      <td>Hidráulica</td>\n",
       "      <td>129460.800</td>\n",
       "      <td>0.171445</td>\n",
       "    </tr>\n",
       "    <tr>\n",
       "      <th>5</th>\n",
       "      <td>2023-11-10</td>\n",
       "      <td>Hidráulica</td>\n",
       "      <td>129801.300</td>\n",
       "      <td>0.165576</td>\n",
       "    </tr>\n",
       "    <tr>\n",
       "      <th>12</th>\n",
       "      <td>2023-11-05</td>\n",
       "      <td>Nuclear</td>\n",
       "      <td>78960.800</td>\n",
       "      <td>0.124313</td>\n",
       "    </tr>\n",
       "    <tr>\n",
       "      <th>13</th>\n",
       "      <td>2023-11-06</td>\n",
       "      <td>Nuclear</td>\n",
       "      <td>107745.200</td>\n",
       "      <td>0.151797</td>\n",
       "    </tr>\n",
       "    <tr>\n",
       "      <th>14</th>\n",
       "      <td>2023-11-07</td>\n",
       "      <td>Nuclear</td>\n",
       "      <td>120433.400</td>\n",
       "      <td>0.170821</td>\n",
       "    </tr>\n",
       "    <tr>\n",
       "      <th>15</th>\n",
       "      <td>2023-11-08</td>\n",
       "      <td>Nuclear</td>\n",
       "      <td>120624.400</td>\n",
       "      <td>0.174174</td>\n",
       "    </tr>\n",
       "    <tr>\n",
       "      <th>16</th>\n",
       "      <td>2023-11-09</td>\n",
       "      <td>Nuclear</td>\n",
       "      <td>120864.400</td>\n",
       "      <td>0.160061</td>\n",
       "    </tr>\n",
       "    <tr>\n",
       "      <th>17</th>\n",
       "      <td>2023-11-10</td>\n",
       "      <td>Nuclear</td>\n",
       "      <td>120799.200</td>\n",
       "      <td>0.154093</td>\n",
       "    </tr>\n",
       "    <tr>\n",
       "      <th>54</th>\n",
       "      <td>2023-11-05</td>\n",
       "      <td>Eólica</td>\n",
       "      <td>290196.439</td>\n",
       "      <td>0.456876</td>\n",
       "    </tr>\n",
       "    <tr>\n",
       "      <th>55</th>\n",
       "      <td>2023-11-06</td>\n",
       "      <td>Eólica</td>\n",
       "      <td>234402.419</td>\n",
       "      <td>0.330238</td>\n",
       "    </tr>\n",
       "    <tr>\n",
       "      <th>56</th>\n",
       "      <td>2023-11-07</td>\n",
       "      <td>Eólica</td>\n",
       "      <td>179265.231</td>\n",
       "      <td>0.254267</td>\n",
       "    </tr>\n",
       "    <tr>\n",
       "      <th>57</th>\n",
       "      <td>2023-11-08</td>\n",
       "      <td>Eólica</td>\n",
       "      <td>193809.751</td>\n",
       "      <td>0.279849</td>\n",
       "    </tr>\n",
       "    <tr>\n",
       "      <th>58</th>\n",
       "      <td>2023-11-09</td>\n",
       "      <td>Eólica</td>\n",
       "      <td>272038.918</td>\n",
       "      <td>0.360262</td>\n",
       "    </tr>\n",
       "    <tr>\n",
       "      <th>59</th>\n",
       "      <td>2023-11-10</td>\n",
       "      <td>Eólica</td>\n",
       "      <td>311761.764</td>\n",
       "      <td>0.397686</td>\n",
       "    </tr>\n",
       "    <tr>\n",
       "      <th>60</th>\n",
       "      <td>2023-11-05</td>\n",
       "      <td>Solar fotovoltaica</td>\n",
       "      <td>66046.142</td>\n",
       "      <td>0.103981</td>\n",
       "    </tr>\n",
       "    <tr>\n",
       "      <th>61</th>\n",
       "      <td>2023-11-06</td>\n",
       "      <td>Solar fotovoltaica</td>\n",
       "      <td>82664.709</td>\n",
       "      <td>0.116462</td>\n",
       "    </tr>\n",
       "    <tr>\n",
       "      <th>62</th>\n",
       "      <td>2023-11-07</td>\n",
       "      <td>Solar fotovoltaica</td>\n",
       "      <td>79146.291</td>\n",
       "      <td>0.112260</td>\n",
       "    </tr>\n",
       "    <tr>\n",
       "      <th>63</th>\n",
       "      <td>2023-11-08</td>\n",
       "      <td>Solar fotovoltaica</td>\n",
       "      <td>63770.302</td>\n",
       "      <td>0.092080</td>\n",
       "    </tr>\n",
       "    <tr>\n",
       "      <th>64</th>\n",
       "      <td>2023-11-09</td>\n",
       "      <td>Solar fotovoltaica</td>\n",
       "      <td>66983.854</td>\n",
       "      <td>0.088707</td>\n",
       "    </tr>\n",
       "    <tr>\n",
       "      <th>65</th>\n",
       "      <td>2023-11-10</td>\n",
       "      <td>Solar fotovoltaica</td>\n",
       "      <td>74917.109</td>\n",
       "      <td>0.095565</td>\n",
       "    </tr>\n",
       "  </tbody>\n",
       "</table>\n",
       "</div>"
      ],
      "text/plain": [
       "        fecha                tipo  generacion  percentage\n",
       "0  2023-11-05          Hidráulica   88871.500    0.139916\n",
       "1  2023-11-06          Hidráulica  111999.100    0.157790\n",
       "2  2023-11-07          Hidráulica  125630.800    0.178193\n",
       "3  2023-11-08          Hidráulica  125013.900    0.180512\n",
       "4  2023-11-09          Hidráulica  129460.800    0.171445\n",
       "5  2023-11-10          Hidráulica  129801.300    0.165576\n",
       "12 2023-11-05             Nuclear   78960.800    0.124313\n",
       "13 2023-11-06             Nuclear  107745.200    0.151797\n",
       "14 2023-11-07             Nuclear  120433.400    0.170821\n",
       "15 2023-11-08             Nuclear  120624.400    0.174174\n",
       "16 2023-11-09             Nuclear  120864.400    0.160061\n",
       "17 2023-11-10             Nuclear  120799.200    0.154093\n",
       "54 2023-11-05              Eólica  290196.439    0.456876\n",
       "55 2023-11-06              Eólica  234402.419    0.330238\n",
       "56 2023-11-07              Eólica  179265.231    0.254267\n",
       "57 2023-11-08              Eólica  193809.751    0.279849\n",
       "58 2023-11-09              Eólica  272038.918    0.360262\n",
       "59 2023-11-10              Eólica  311761.764    0.397686\n",
       "60 2023-11-05  Solar fotovoltaica   66046.142    0.103981\n",
       "61 2023-11-06  Solar fotovoltaica   82664.709    0.116462\n",
       "62 2023-11-07  Solar fotovoltaica   79146.291    0.112260\n",
       "63 2023-11-08  Solar fotovoltaica   63770.302    0.092080\n",
       "64 2023-11-09  Solar fotovoltaica   66983.854    0.088707\n",
       "65 2023-11-10  Solar fotovoltaica   74917.109    0.095565"
      ]
     },
     "execution_count": 34,
     "metadata": {},
     "output_type": "execute_result"
    }
   ],
   "source": [
    "generacion"
   ]
  },
  {
   "cell_type": "markdown",
   "metadata": {},
   "source": [
    "..y los utilizamos para generar un gráfico de barras que nos muestras la evolución de la generación, por cada fuente, en estos días:"
   ]
  },
  {
   "cell_type": "code",
   "execution_count": 43,
   "metadata": {},
   "outputs": [
    {
     "data": {
      "application/vnd.plotly.v1+json": {
       "config": {
        "plotlyServerURL": "https://plot.ly"
       },
       "data": [
        {
         "alignmentgroup": "True",
         "hovertemplate": "tipo=Hidráulica<br>fecha=%{x}<br>Porcentaje=%{y}<extra></extra>",
         "legendgroup": "Hidráulica",
         "marker": {
          "color": "#636efa",
          "pattern": {
           "shape": ""
          }
         },
         "name": "Hidráulica",
         "offsetgroup": "Hidráulica",
         "orientation": "v",
         "showlegend": true,
         "textposition": "auto",
         "type": "bar",
         "x": [
          "2023-11-05T00:00:00",
          "2023-11-06T00:00:00",
          "2023-11-07T00:00:00",
          "2023-11-08T00:00:00",
          "2023-11-09T00:00:00",
          "2023-11-10T00:00:00"
         ],
         "xaxis": "x",
         "y": [
          0.13991642604042656,
          0.15779019213987144,
          0.17819277109083115,
          0.18051191547524745,
          0.17144528329586708,
          0.1655756909042427
         ],
         "yaxis": "y"
        },
        {
         "alignmentgroup": "True",
         "hovertemplate": "tipo=Nuclear<br>fecha=%{x}<br>Porcentaje=%{y}<extra></extra>",
         "legendgroup": "Nuclear",
         "marker": {
          "color": "#EF553B",
          "pattern": {
           "shape": ""
          }
         },
         "name": "Nuclear",
         "offsetgroup": "Nuclear",
         "orientation": "v",
         "showlegend": true,
         "textposition": "auto",
         "type": "bar",
         "x": [
          "2023-11-05T00:00:00",
          "2023-11-06T00:00:00",
          "2023-11-07T00:00:00",
          "2023-11-08T00:00:00",
          "2023-11-09T00:00:00",
          "2023-11-10T00:00:00"
         ],
         "xaxis": "x",
         "y": [
          0.12431333929654517,
          0.1517970752456839,
          0.1708208598360474,
          0.17417376385387895,
          0.1600610478104955,
          0.15409253220637847
         ],
         "yaxis": "y"
        },
        {
         "alignmentgroup": "True",
         "hovertemplate": "tipo=Eólica<br>fecha=%{x}<br>Porcentaje=%{y}<extra></extra>",
         "legendgroup": "Eólica",
         "marker": {
          "color": "#00cc96",
          "pattern": {
           "shape": ""
          }
         },
         "name": "Eólica",
         "offsetgroup": "Eólica",
         "orientation": "v",
         "showlegend": true,
         "textposition": "auto",
         "type": "bar",
         "x": [
          "2023-11-05T00:00:00",
          "2023-11-06T00:00:00",
          "2023-11-07T00:00:00",
          "2023-11-08T00:00:00",
          "2023-11-09T00:00:00",
          "2023-11-10T00:00:00"
         ],
         "xaxis": "x",
         "y": [
          0.45687592304100483,
          0.33023839238048025,
          0.2542670131220049,
          0.2798486359580075,
          0.36026186586218495,
          0.3976860745757204
         ],
         "yaxis": "y"
        },
        {
         "alignmentgroup": "True",
         "hovertemplate": "tipo=Solar fotovoltaica<br>fecha=%{x}<br>Porcentaje=%{y}<extra></extra>",
         "legendgroup": "Solar fotovoltaica",
         "marker": {
          "color": "#ab63fa",
          "pattern": {
           "shape": ""
          }
         },
         "name": "Solar fotovoltaica",
         "offsetgroup": "Solar fotovoltaica",
         "orientation": "v",
         "showlegend": true,
         "textposition": "auto",
         "type": "bar",
         "x": [
          "2023-11-05T00:00:00",
          "2023-11-06T00:00:00",
          "2023-11-07T00:00:00",
          "2023-11-08T00:00:00",
          "2023-11-09T00:00:00",
          "2023-11-10T00:00:00"
         ],
         "xaxis": "x",
         "y": [
          0.10398091786904139,
          0.11646236725381329,
          0.11225986712534912,
          0.09208015560233705,
          0.08870689680025923,
          0.09556492949780516
         ],
         "yaxis": "y"
        }
       ],
       "layout": {
        "barmode": "relative",
        "legend": {
         "title": {
          "text": "tipo"
         },
         "tracegroupgap": 0
        },
        "template": {
         "data": {
          "bar": [
           {
            "error_x": {
             "color": "#2a3f5f"
            },
            "error_y": {
             "color": "#2a3f5f"
            },
            "marker": {
             "line": {
              "color": "white",
              "width": 0.5
             },
             "pattern": {
              "fillmode": "overlay",
              "size": 10,
              "solidity": 0.2
             }
            },
            "type": "bar"
           }
          ],
          "barpolar": [
           {
            "marker": {
             "line": {
              "color": "white",
              "width": 0.5
             },
             "pattern": {
              "fillmode": "overlay",
              "size": 10,
              "solidity": 0.2
             }
            },
            "type": "barpolar"
           }
          ],
          "carpet": [
           {
            "aaxis": {
             "endlinecolor": "#2a3f5f",
             "gridcolor": "#C8D4E3",
             "linecolor": "#C8D4E3",
             "minorgridcolor": "#C8D4E3",
             "startlinecolor": "#2a3f5f"
            },
            "baxis": {
             "endlinecolor": "#2a3f5f",
             "gridcolor": "#C8D4E3",
             "linecolor": "#C8D4E3",
             "minorgridcolor": "#C8D4E3",
             "startlinecolor": "#2a3f5f"
            },
            "type": "carpet"
           }
          ],
          "choropleth": [
           {
            "colorbar": {
             "outlinewidth": 0,
             "ticks": ""
            },
            "type": "choropleth"
           }
          ],
          "contour": [
           {
            "colorbar": {
             "outlinewidth": 0,
             "ticks": ""
            },
            "colorscale": [
             [
              0,
              "#0d0887"
             ],
             [
              0.1111111111111111,
              "#46039f"
             ],
             [
              0.2222222222222222,
              "#7201a8"
             ],
             [
              0.3333333333333333,
              "#9c179e"
             ],
             [
              0.4444444444444444,
              "#bd3786"
             ],
             [
              0.5555555555555556,
              "#d8576b"
             ],
             [
              0.6666666666666666,
              "#ed7953"
             ],
             [
              0.7777777777777778,
              "#fb9f3a"
             ],
             [
              0.8888888888888888,
              "#fdca26"
             ],
             [
              1,
              "#f0f921"
             ]
            ],
            "type": "contour"
           }
          ],
          "contourcarpet": [
           {
            "colorbar": {
             "outlinewidth": 0,
             "ticks": ""
            },
            "type": "contourcarpet"
           }
          ],
          "heatmap": [
           {
            "colorbar": {
             "outlinewidth": 0,
             "ticks": ""
            },
            "colorscale": [
             [
              0,
              "#0d0887"
             ],
             [
              0.1111111111111111,
              "#46039f"
             ],
             [
              0.2222222222222222,
              "#7201a8"
             ],
             [
              0.3333333333333333,
              "#9c179e"
             ],
             [
              0.4444444444444444,
              "#bd3786"
             ],
             [
              0.5555555555555556,
              "#d8576b"
             ],
             [
              0.6666666666666666,
              "#ed7953"
             ],
             [
              0.7777777777777778,
              "#fb9f3a"
             ],
             [
              0.8888888888888888,
              "#fdca26"
             ],
             [
              1,
              "#f0f921"
             ]
            ],
            "type": "heatmap"
           }
          ],
          "heatmapgl": [
           {
            "colorbar": {
             "outlinewidth": 0,
             "ticks": ""
            },
            "colorscale": [
             [
              0,
              "#0d0887"
             ],
             [
              0.1111111111111111,
              "#46039f"
             ],
             [
              0.2222222222222222,
              "#7201a8"
             ],
             [
              0.3333333333333333,
              "#9c179e"
             ],
             [
              0.4444444444444444,
              "#bd3786"
             ],
             [
              0.5555555555555556,
              "#d8576b"
             ],
             [
              0.6666666666666666,
              "#ed7953"
             ],
             [
              0.7777777777777778,
              "#fb9f3a"
             ],
             [
              0.8888888888888888,
              "#fdca26"
             ],
             [
              1,
              "#f0f921"
             ]
            ],
            "type": "heatmapgl"
           }
          ],
          "histogram": [
           {
            "marker": {
             "pattern": {
              "fillmode": "overlay",
              "size": 10,
              "solidity": 0.2
             }
            },
            "type": "histogram"
           }
          ],
          "histogram2d": [
           {
            "colorbar": {
             "outlinewidth": 0,
             "ticks": ""
            },
            "colorscale": [
             [
              0,
              "#0d0887"
             ],
             [
              0.1111111111111111,
              "#46039f"
             ],
             [
              0.2222222222222222,
              "#7201a8"
             ],
             [
              0.3333333333333333,
              "#9c179e"
             ],
             [
              0.4444444444444444,
              "#bd3786"
             ],
             [
              0.5555555555555556,
              "#d8576b"
             ],
             [
              0.6666666666666666,
              "#ed7953"
             ],
             [
              0.7777777777777778,
              "#fb9f3a"
             ],
             [
              0.8888888888888888,
              "#fdca26"
             ],
             [
              1,
              "#f0f921"
             ]
            ],
            "type": "histogram2d"
           }
          ],
          "histogram2dcontour": [
           {
            "colorbar": {
             "outlinewidth": 0,
             "ticks": ""
            },
            "colorscale": [
             [
              0,
              "#0d0887"
             ],
             [
              0.1111111111111111,
              "#46039f"
             ],
             [
              0.2222222222222222,
              "#7201a8"
             ],
             [
              0.3333333333333333,
              "#9c179e"
             ],
             [
              0.4444444444444444,
              "#bd3786"
             ],
             [
              0.5555555555555556,
              "#d8576b"
             ],
             [
              0.6666666666666666,
              "#ed7953"
             ],
             [
              0.7777777777777778,
              "#fb9f3a"
             ],
             [
              0.8888888888888888,
              "#fdca26"
             ],
             [
              1,
              "#f0f921"
             ]
            ],
            "type": "histogram2dcontour"
           }
          ],
          "mesh3d": [
           {
            "colorbar": {
             "outlinewidth": 0,
             "ticks": ""
            },
            "type": "mesh3d"
           }
          ],
          "parcoords": [
           {
            "line": {
             "colorbar": {
              "outlinewidth": 0,
              "ticks": ""
             }
            },
            "type": "parcoords"
           }
          ],
          "pie": [
           {
            "automargin": true,
            "type": "pie"
           }
          ],
          "scatter": [
           {
            "marker": {
             "colorbar": {
              "outlinewidth": 0,
              "ticks": ""
             }
            },
            "type": "scatter"
           }
          ],
          "scatter3d": [
           {
            "line": {
             "colorbar": {
              "outlinewidth": 0,
              "ticks": ""
             }
            },
            "marker": {
             "colorbar": {
              "outlinewidth": 0,
              "ticks": ""
             }
            },
            "type": "scatter3d"
           }
          ],
          "scattercarpet": [
           {
            "marker": {
             "colorbar": {
              "outlinewidth": 0,
              "ticks": ""
             }
            },
            "type": "scattercarpet"
           }
          ],
          "scattergeo": [
           {
            "marker": {
             "colorbar": {
              "outlinewidth": 0,
              "ticks": ""
             }
            },
            "type": "scattergeo"
           }
          ],
          "scattergl": [
           {
            "marker": {
             "colorbar": {
              "outlinewidth": 0,
              "ticks": ""
             }
            },
            "type": "scattergl"
           }
          ],
          "scattermapbox": [
           {
            "marker": {
             "colorbar": {
              "outlinewidth": 0,
              "ticks": ""
             }
            },
            "type": "scattermapbox"
           }
          ],
          "scatterpolar": [
           {
            "marker": {
             "colorbar": {
              "outlinewidth": 0,
              "ticks": ""
             }
            },
            "type": "scatterpolar"
           }
          ],
          "scatterpolargl": [
           {
            "marker": {
             "colorbar": {
              "outlinewidth": 0,
              "ticks": ""
             }
            },
            "type": "scatterpolargl"
           }
          ],
          "scatterternary": [
           {
            "marker": {
             "colorbar": {
              "outlinewidth": 0,
              "ticks": ""
             }
            },
            "type": "scatterternary"
           }
          ],
          "surface": [
           {
            "colorbar": {
             "outlinewidth": 0,
             "ticks": ""
            },
            "colorscale": [
             [
              0,
              "#0d0887"
             ],
             [
              0.1111111111111111,
              "#46039f"
             ],
             [
              0.2222222222222222,
              "#7201a8"
             ],
             [
              0.3333333333333333,
              "#9c179e"
             ],
             [
              0.4444444444444444,
              "#bd3786"
             ],
             [
              0.5555555555555556,
              "#d8576b"
             ],
             [
              0.6666666666666666,
              "#ed7953"
             ],
             [
              0.7777777777777778,
              "#fb9f3a"
             ],
             [
              0.8888888888888888,
              "#fdca26"
             ],
             [
              1,
              "#f0f921"
             ]
            ],
            "type": "surface"
           }
          ],
          "table": [
           {
            "cells": {
             "fill": {
              "color": "#EBF0F8"
             },
             "line": {
              "color": "white"
             }
            },
            "header": {
             "fill": {
              "color": "#C8D4E3"
             },
             "line": {
              "color": "white"
             }
            },
            "type": "table"
           }
          ]
         },
         "layout": {
          "annotationdefaults": {
           "arrowcolor": "#2a3f5f",
           "arrowhead": 0,
           "arrowwidth": 1
          },
          "autotypenumbers": "strict",
          "coloraxis": {
           "colorbar": {
            "outlinewidth": 0,
            "ticks": ""
           }
          },
          "colorscale": {
           "diverging": [
            [
             0,
             "#8e0152"
            ],
            [
             0.1,
             "#c51b7d"
            ],
            [
             0.2,
             "#de77ae"
            ],
            [
             0.3,
             "#f1b6da"
            ],
            [
             0.4,
             "#fde0ef"
            ],
            [
             0.5,
             "#f7f7f7"
            ],
            [
             0.6,
             "#e6f5d0"
            ],
            [
             0.7,
             "#b8e186"
            ],
            [
             0.8,
             "#7fbc41"
            ],
            [
             0.9,
             "#4d9221"
            ],
            [
             1,
             "#276419"
            ]
           ],
           "sequential": [
            [
             0,
             "#0d0887"
            ],
            [
             0.1111111111111111,
             "#46039f"
            ],
            [
             0.2222222222222222,
             "#7201a8"
            ],
            [
             0.3333333333333333,
             "#9c179e"
            ],
            [
             0.4444444444444444,
             "#bd3786"
            ],
            [
             0.5555555555555556,
             "#d8576b"
            ],
            [
             0.6666666666666666,
             "#ed7953"
            ],
            [
             0.7777777777777778,
             "#fb9f3a"
            ],
            [
             0.8888888888888888,
             "#fdca26"
            ],
            [
             1,
             "#f0f921"
            ]
           ],
           "sequentialminus": [
            [
             0,
             "#0d0887"
            ],
            [
             0.1111111111111111,
             "#46039f"
            ],
            [
             0.2222222222222222,
             "#7201a8"
            ],
            [
             0.3333333333333333,
             "#9c179e"
            ],
            [
             0.4444444444444444,
             "#bd3786"
            ],
            [
             0.5555555555555556,
             "#d8576b"
            ],
            [
             0.6666666666666666,
             "#ed7953"
            ],
            [
             0.7777777777777778,
             "#fb9f3a"
            ],
            [
             0.8888888888888888,
             "#fdca26"
            ],
            [
             1,
             "#f0f921"
            ]
           ]
          },
          "colorway": [
           "#636efa",
           "#EF553B",
           "#00cc96",
           "#ab63fa",
           "#FFA15A",
           "#19d3f3",
           "#FF6692",
           "#B6E880",
           "#FF97FF",
           "#FECB52"
          ],
          "font": {
           "color": "#2a3f5f"
          },
          "geo": {
           "bgcolor": "white",
           "lakecolor": "white",
           "landcolor": "white",
           "showlakes": true,
           "showland": true,
           "subunitcolor": "#C8D4E3"
          },
          "hoverlabel": {
           "align": "left"
          },
          "hovermode": "closest",
          "mapbox": {
           "style": "light"
          },
          "paper_bgcolor": "white",
          "plot_bgcolor": "white",
          "polar": {
           "angularaxis": {
            "gridcolor": "#EBF0F8",
            "linecolor": "#EBF0F8",
            "ticks": ""
           },
           "bgcolor": "white",
           "radialaxis": {
            "gridcolor": "#EBF0F8",
            "linecolor": "#EBF0F8",
            "ticks": ""
           }
          },
          "scene": {
           "xaxis": {
            "backgroundcolor": "white",
            "gridcolor": "#DFE8F3",
            "gridwidth": 2,
            "linecolor": "#EBF0F8",
            "showbackground": true,
            "ticks": "",
            "zerolinecolor": "#EBF0F8"
           },
           "yaxis": {
            "backgroundcolor": "white",
            "gridcolor": "#DFE8F3",
            "gridwidth": 2,
            "linecolor": "#EBF0F8",
            "showbackground": true,
            "ticks": "",
            "zerolinecolor": "#EBF0F8"
           },
           "zaxis": {
            "backgroundcolor": "white",
            "gridcolor": "#DFE8F3",
            "gridwidth": 2,
            "linecolor": "#EBF0F8",
            "showbackground": true,
            "ticks": "",
            "zerolinecolor": "#EBF0F8"
           }
          },
          "shapedefaults": {
           "line": {
            "color": "#2a3f5f"
           }
          },
          "ternary": {
           "aaxis": {
            "gridcolor": "#DFE8F3",
            "linecolor": "#A2B1C6",
            "ticks": ""
           },
           "baxis": {
            "gridcolor": "#DFE8F3",
            "linecolor": "#A2B1C6",
            "ticks": ""
           },
           "bgcolor": "white",
           "caxis": {
            "gridcolor": "#DFE8F3",
            "linecolor": "#A2B1C6",
            "ticks": ""
           }
          },
          "title": {
           "x": 0.05
          },
          "xaxis": {
           "automargin": true,
           "gridcolor": "#EBF0F8",
           "linecolor": "#EBF0F8",
           "ticks": "",
           "title": {
            "standoff": 15
           },
           "zerolinecolor": "#EBF0F8",
           "zerolinewidth": 2
          },
          "yaxis": {
           "automargin": true,
           "gridcolor": "#EBF0F8",
           "linecolor": "#EBF0F8",
           "ticks": "",
           "title": {
            "standoff": 15
           },
           "zerolinecolor": "#EBF0F8",
           "zerolinewidth": 2
          }
         }
        },
        "title": {
         "text": "Evolución de diferentes tecnologías de generación"
        },
        "xaxis": {
         "anchor": "y",
         "domain": [
          0,
          1
         ],
         "title": {
          "text": "fecha"
         }
        },
        "yaxis": {
         "anchor": "x",
         "domain": [
          0,
          1
         ],
         "title": {
          "text": "Porcentaje"
         }
        }
       }
      }
     },
     "metadata": {},
     "output_type": "display_data"
    }
   ],
   "source": [
    "import plotly.express as px\n",
    "import pandas as pd\n",
    "\n",
    "# Suponiendo que 'generacion' es tu DataFrame\n",
    "# generacion = pd.read_csv('tu_archivo.csv')\n",
    "\n",
    "fig = px.bar(\n",
    "    generacion,\n",
    "    x='fecha',\n",
    "    y='percentage',\n",
    "    color='tipo',\n",
    "    labels={'percentage': 'Porcentaje'},\n",
    "    title='Evolución de diferentes tecnologías de generación',\n",
    "    template='plotly_white',\n",
    ")\n",
    "\n",
    "\n",
    "fig.show()\n"
   ]
  }
 ],
 "metadata": {
  "kernelspec": {
   "display_name": "Python 3",
   "language": "python",
   "name": "python3"
  },
  "language_info": {
   "codemirror_mode": {
    "name": "ipython",
    "version": 3
   },
   "file_extension": ".py",
   "mimetype": "text/x-python",
   "name": "python",
   "nbconvert_exporter": "python",
   "pygments_lexer": "ipython3",
   "version": "3.8.8"
  }
 },
 "nbformat": 4,
 "nbformat_minor": 2
}
